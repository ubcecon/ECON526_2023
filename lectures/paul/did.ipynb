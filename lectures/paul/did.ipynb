{
  "cells": [
    {
      "cell_type": "markdown",
      "metadata": {},
      "source": [
        "# Introduction to Difference in Differences\n",
        "\n",
        "ECON526\n",
        "\n",
        "Paul Schrimpf (University of British Columbia)\n",
        "\n",
        "# Introduction\n",
        "\n",
        "## Introduction\n",
        "\n",
        "-   Have some policy applied to some observations but not others, and\n",
        "    observe outcome before and after policy\n",
        "\n",
        "-   Idea: compare outcome before and after policy in treated and\n",
        "    untreated group\n",
        "\n",
        "-   Change in outcome in treated group reflects both effect of policy\n",
        "    and time trend, change in untreated group captures time trend\n",
        "\n",
        "## Example: Impact of Billboards\n",
        "\n",
        "-   From Facure (2022) chapter 13\n",
        "-   Bank placed billboards advertising savings accounts in Porto Alegre\n",
        "    in July\n",
        "-   Data on deposits in May and July in Porto Alegre and Florianopolis\n",
        "\n",
        "## Example: Impact of Billboards"
      ],
      "id": "75162ee2-5ad8-42f0-93d8-a134de12acaa"
    },
    {
      "cell_type": "code",
      "execution_count": 1,
      "metadata": {},
      "outputs": [],
      "source": [
        "import warnings\n",
        "warnings.filterwarnings('ignore')\n",
        "import pandas as pd\n",
        "from matplotlib import pyplot as plt\n",
        "import statsmodels.formula.api as smf\n",
        "\n",
        "datadir=\"./data\""
      ],
      "id": "1e984e91"
    },
    {
      "cell_type": "code",
      "execution_count": 2,
      "metadata": {},
      "outputs": [
        {
          "output_type": "display_data",
          "metadata": {},
          "data": {
            "text/html": [
              "\n",
              "</div>"
            ]
          }
        }
      ],
      "source": [
        "data = pd.read_csv(datadir + \"/billboard_impact.csv\")\n",
        "data.head()"
      ],
      "id": "0c59250c"
    },
    {
      "cell_type": "markdown",
      "metadata": {},
      "source": [
        "## Means and Differences"
      ],
      "id": "2d2828b5-b33a-44e9-8b5a-a5d2eda9d0f9"
    },
    {
      "cell_type": "code",
      "execution_count": 3,
      "metadata": {},
      "outputs": [
        {
          "output_type": "display_data",
          "metadata": {},
          "data": {
            "text/html": [
              "\n",
              "</div>"
            ]
          }
        }
      ],
      "source": [
        "tbl = data.groupby(['jul','poa']).mean().unstack()\n",
        "tbl"
      ],
      "id": "023a39d3"
    },
    {
      "cell_type": "code",
      "execution_count": 4,
      "metadata": {},
      "outputs": [
        {
          "output_type": "display_data",
          "metadata": {},
          "data": {
            "text/plain": [
              "          poa\n",
              "deposits  0      34.523192\n",
              "          1      41.047750\n",
              "Name: 1, dtype: float64"
            ]
          }
        }
      ],
      "source": [
        "tbl.diff(axis=0).iloc[1,:]"
      ],
      "id": "ea29c4ea"
    },
    {
      "cell_type": "code",
      "execution_count": 5,
      "metadata": {},
      "outputs": [
        {
          "output_type": "display_data",
          "metadata": {},
          "data": {
            "text/plain": [
              "jul\n",
              "0   -125.626308\n",
              "1   -119.101750\n",
              "Name: (deposits, 1), dtype: float64"
            ]
          }
        }
      ],
      "source": [
        "tbl.diff(axis=1).iloc[:,1]"
      ],
      "id": "84a6aa0a"
    },
    {
      "cell_type": "code",
      "execution_count": 6,
      "metadata": {},
      "outputs": [
        {
          "output_type": "display_data",
          "metadata": {},
          "data": {
            "text/plain": [
              "np.float64(6.524557692307688)"
            ]
          }
        }
      ],
      "source": [
        "tbl.diff(axis=0).diff(axis=1).iloc[1,1]"
      ],
      "id": "598caf86"
    },
    {
      "cell_type": "markdown",
      "metadata": {},
      "source": [
        "# Difference in Differences\n",
        "\n",
        "$$ %\n",
        "\\def\\Er{{\\mathrm{E}}}\n",
        "\\def\\En{{\\mathbb{E}_n}}\n",
        "\\def\\cov{{\\mathrm{Cov}}}\n",
        "\\def\\var{{\\mathrm{Var}}}\n",
        "\\def\\R{{\\mathbb{R}}}\n",
        "\\newcommand\\norm[1]{\\left\\lVert#1\\right\\rVert}\n",
        "\\def\\rank{{\\mathrm{rank}}}\n",
        "\\newcommand{\\inpr}{ \\overset{p^*_{\\scriptscriptstyle n}}{\\longrightarrow}}\n",
        "\\def\\inprob{{\\,{\\buildrel p \\over \\rightarrow}\\,}}\n",
        "\\def\\indist{\\,{\\buildrel d \\over \\rightarrow}\\,}\n",
        "\\DeclareMathOperator*{\\plim}{plim}\n",
        "$$\n",
        "\n",
        "## Setup\n",
        "\n",
        "-   Two periods, binary treatment in second period\n",
        "-   Potential outcomes $\\{y_{it}(0),y_{it}(1)\\}_{t=0}^1$ for $i=1,...,N$\n",
        "-   Treatment $D_{it} \\in \\{0,1\\}$,\n",
        "    -   $D_{i0} = 0$ $\\forall i$\n",
        "    -   $D_{i1} = 1$ for some, $0$ for others\n",
        "-   Observe $y_{it} = y_{it}(0)(1-D_{it}) + D_{it} y_{it}(1)$\n",
        "\n",
        "## Identification\n",
        "\n",
        "-   Average treatment effect on the treated:\n",
        "\n",
        "$$ %\n",
        "\\begin{align*}\n",
        "ATT & = \\Er[y_{i1}(1) - \\color{red}{y_{i1}(0)} | D_{i1} = 1] \\\\\n",
        "& = \\Er[y_{i1}(1) - y_{i0}(0) | D_{i1} = 1] - \\Er[\\color{red}{y_{i1}(0)} - y_{i0}(0) | D_{i1}=1] \\\\\n",
        "& \\text{ assume } \\Er[\\color{red}{y_{i1}(0)} - y_{i0}(0) | D_{i1}=1] =  \\Er[y_{i1}(0) - y_{i0}(0) | D_{i1}=0] \\\\\n",
        "& = \\Er[y_{i1}(1) - y_{i0}(0) | D_{i1} = 1] - \\Er[y_{i1}(0) - y_{i0}(0) | D_{i1}=0] \\\\\n",
        "& = \\Er[y_{i1} - y_{i0} | D_{i1}=1, D_{i0}=0] - \\Er[y_{i1} - y_{i0} | D_{i1}=0, D_{i0}=0]\n",
        "\\end{align*}\n",
        "$$\n",
        "\n",
        "## Important Assumptions\n",
        "\n",
        "-   No anticipation: $D_{i1}=1$ does not affect $y_{i0}$\n",
        "    -   built into the potential outcomes notation we used, relax by\n",
        "        allowing potential outcomes given sequence of $D$,\n",
        "        i.e. $y_{it}(D_{i0},D_{i1})$\n",
        "-   Parallel trends:\n",
        "    $\\Er[\\color{red}{y_{i1}(0)} - y_{i0}(0) |D_{i1}=1,D_{i0}=0] =  \\Er[y_{i1}(0) - y_{i0}(0) | D_{i1}=0], D_{i0}=0]$\n",
        "    -   not invariant to tranformations of $y$\n",
        "\n",
        "## Estimation\n",
        "\n",
        "-   Plugin: $$ %\n",
        "    \\widehat{ATT} = \\frac{ \\sum_{i=1}^n (y_{i1} - y_{i0})D_{i1}(1-D_{i0})}{\\sum_{i=1}^n D_{i1}(1-D_{i0})} -  \\frac{ \\sum_{i=1}^n (y_{i1} - y_{i0})(1-D_{i1})(1-D_{i0})}{\\sum_{i=1}^n (1-D_{i1})(1-D_{i0})}\n",
        "    $$\n",
        "\n",
        "-   Regression: $$ %\n",
        "    y_{it} = \\delta_t + \\alpha 1\\{D_{i1}=1\\} + \\beta D_{it} + \\epsilon_{it}\n",
        "    $$ then $\\hat{\\beta} = \\widehat{ATT}$\n",
        "\n",
        "# Billboard Application Revisited\n",
        "\n",
        "## Visualizing Difference in Differences"
      ],
      "id": "3365b2e6-579b-4766-b4c3-66e8a37d6138"
    },
    {
      "cell_type": "code",
      "execution_count": 7,
      "metadata": {},
      "outputs": [
        {
          "output_type": "display_data",
          "metadata": {},
          "data": {
            "image/png": "[encoded data removed]"
          }
        }
      ],
      "source": [
        "poa_before = data.query(\"poa==1 & jul==0\")[\"deposits\"].mean()\n",
        "poa_after = data.query(\"poa==1 & jul==1\")[\"deposits\"].mean()\n",
        "fl_before = data.query(\"poa==0 & jul==0\")[\"deposits\"].mean()\n",
        "fl_after = data.query(\"poa==0 & jul==1\")[\"deposits\"].mean()\n",
        "plt.figure(figsize=(10,5))\n",
        "plt.plot([\"May\", \"Jul\"], [fl_before, fl_after], label=\"FL\", lw=2)\n",
        "plt.plot([\"May\", \"Jul\"], [poa_before, poa_after], label=\"POA\", lw=2)\n",
        "\n",
        "plt.plot([\"May\", \"Jul\"], [poa_before, poa_before+(fl_after-fl_before)],\n",
        "         label=\"Counterfactual\", lw=2, color=\"C2\", ls=\"-.\")\n",
        "\n",
        "plt.legend();"
      ],
      "id": "c4da4b52"
    },
    {
      "cell_type": "markdown",
      "metadata": {},
      "source": [
        "## Estimation via Regression"
      ],
      "id": "4c7b1c27-8a5d-4184-8458-23dff2b8b089"
    },
    {
      "cell_type": "code",
      "execution_count": 8,
      "metadata": {},
      "outputs": [
        {
          "output_type": "display_data",
          "metadata": {},
          "data": {
            "text/html": [
              "<br/><br/>Notes:<br/>[1] Standard Errors are heteroscedasticity robust (HC3)"
            ]
          }
        }
      ],
      "source": [
        "smf.ols('deposits ~ poa*jul', data=data).fit(cov_type=\"HC3\").summary()"
      ],
      "id": "2e663aa3"
    },
    {
      "cell_type": "markdown",
      "metadata": {},
      "source": [
        "## Further Topics\n",
        "\n",
        "-   More periods, more groups\n",
        "-   Covariates\n",
        "-   Pre-trends\n",
        "\n",
        "## Reading\n",
        "\n",
        "-   [Chapter\n",
        "    13](https://matheusfacure.github.io/python-causality-handbook/13-Difference-in-Differences.html)\n",
        "    of Facure (2022)\n",
        "\n",
        "## References\n",
        "\n",
        "Facure, Matheus. 2022. *Causal Inference for the Brave and True*.\n",
        "<https://matheusfacure.github.io/python-causality-handbook/landing-page.html>."
      ],
      "id": "1eca1c99-6155-4de0-8d11-41876dc1f7b5"
    }
  ],
  "nbformat": 4,
  "nbformat_minor": 5,
  "metadata": {
    "kernelspec": {
      "name": "python3",
      "display_name": "Python 3 (ipykernel)",
      "language": "python",
      "path": "/usr/share/jupyter/kernels/python3"
    },
    "language_info": {
      "name": "python",
      "codemirror_mode": {
        "name": "ipython",
        "version": "3"
      },
      "file_extension": ".py",
      "mimetype": "text/x-python",
      "nbconvert_exporter": "python",
      "pygments_lexer": "ipython3",
      "version": "3.12.7"
    }
  }
}