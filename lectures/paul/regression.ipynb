{
  "cells": [
    {
      "cell_type": "markdown",
      "metadata": {},
      "source": [
        "# Linear Regression\n",
        "\n",
        "ECON526\n",
        "\n",
        "Paul Schrimpf (University of British Columbia)\n",
        "\n",
        "# Review of Linear Regression\n",
        "\n",
        "$$\n",
        "\\def\\Er{{\\mathrm{E}}}\n",
        "\\def\\En{{\\mathbb{En}}}\n",
        "\\def\\cov{{\\mathrm{Cov}}}\n",
        "\\def\\var{{\\mathrm{Var}}}\n",
        "\\def\\R{{\\mathbb{R}}}\n",
        "\\def\\indep{{\\perp\\!\\!\\!\\perp}}\n",
        "\\newcommand\\norm[1]{\\left\\lVert#1\\right\\rVert}\n",
        "\\def\\rank{{\\mathrm{rank}}}\n",
        "\\newcommand{\\inpr}{ \\overset{p^*_{\\scriptscriptstyle n}}{\\longrightarrow}}\n",
        "\\def\\inprob{{\\,{\\buildrel p \\over \\rightarrow}\\,}}\n",
        "\\def\\indist{\\,{\\buildrel d \\over \\rightarrow}\\,}\n",
        "\\DeclareMathOperator*{\\plim}{plim}\n",
        "\\DeclareMathOperator*{\\argmin}{argmin}\n",
        "$$\n",
        "\n",
        "## Regression for RCT\n",
        "\n",
        "-   Create a dataframe to represent the Pfizer Covid vaccine trial"
      ],
      "id": "ac1d71ac-61c5-46cf-9e48-420d7977d984"
    },
    {
      "cell_type": "code",
      "execution_count": 1,
      "metadata": {},
      "outputs": [],
      "source": [
        "import numpy as np\n",
        "import pandas as pd\n",
        "import statsmodels.api as sm\n",
        "import statsmodels.formula.api as smf\n",
        "import matplotlib.pyplot as plt\n",
        "from statsmodels.iolib.summary2 import summary_col\n",
        "import os\n",
        "import requests"
      ],
      "id": "c9d90000"
    },
    {
      "cell_type": "code",
      "execution_count": 2,
      "metadata": {},
      "outputs": [
        {
          "output_type": "display_data",
          "metadata": {},
          "data": {
            "text/html": [
              "\n",
              "</div>"
            ]
          }
        }
      ],
      "source": [
        "def pfizerrctdata():\n",
        "    n1 = 19965\n",
        "    n0 = 20172\n",
        "    y1 = 9\n",
        "    y0 = 169\n",
        "    n1o = 4044\n",
        "    n0o = 4067\n",
        "    y1o = 1\n",
        "    y0o = 19\n",
        "    over65 = np.zeros(n1 + n0)\n",
        "    over65[0:(n1o+n0o)] = 1\n",
        "    treat = np.concatenate([np.ones(n1o), np.zeros(n0o), np.ones(n1-n1o), np.zeros(n0-n0o)])\n",
        "    infected = np.concatenate([np.ones(y1o), np.zeros(n1o-y1o), np.ones(y0o), np.zeros(n0o-y0o),\n",
        "                               np.ones(y1-y1o), np.zeros(n1-n1o-(y1-y1o)),\n",
        "                               np.ones(y0-y0o), np.zeros(n0-n0o-y0+y0o)])\n",
        "    data = pd.DataFrame({'treat': treat, 'infected': infected, 'over65': over65})\n",
        "    return data\n",
        "\n",
        "data = pfizerrctdata()\n",
        "\n",
        "data.groupby(['over65', 'treat']).mean()"
      ],
      "id": "a75536ea"
    },
    {
      "cell_type": "markdown",
      "metadata": {},
      "source": [
        "## ATE"
      ],
      "id": "7afb17ae-a239-4675-91a1-ddb0505822c9"
    },
    {
      "cell_type": "code",
      "execution_count": 3,
      "metadata": {},
      "outputs": [
        {
          "output_type": "stream",
          "name": "stdout",
          "text": [
            "difference in means = -0.0044244682964888074, SE = 0.0010976149240857532"
          ]
        }
      ],
      "source": [
        "def ATE(data, treatment='treat', y='infected'):\n",
        "    means=data.groupby(treatment)[y].mean()\n",
        "    ATE = means[1] - means[0]\n",
        "    se = sum(data.groupby(treatment)[y].var()/data.groupby(treatment)[y].count())**0.5\n",
        "    return ATE, se\n",
        "\n",
        "ate=ATE(data.loc[data['over65']==1,:])\n",
        "print(f\"difference in means = {ate[0]}, SE = {ate[1]}\")"
      ],
      "id": "ef8f5790"
    },
    {
      "cell_type": "markdown",
      "metadata": {},
      "source": [
        "-   Regression estimate $$\n",
        "    y_i = \\beta_0 + \\beta_1 T_i + \\epsilon_i\n",
        "    $$\n",
        "    -   $\\Er[Y_i\\mid T_i] = \\beta_0 + \\beta_1 T_i + \\epsilon_i$ $$\n",
        "        \\begin{align*}\n",
        "        ATE = & \\Er[Y_i\\mid T_i=1] - E[Y_i\\mid T_i=0] \\\\\n",
        "        = & (\\beta_0 + \\beta_1*1)-(\\beta_0 + \\beta_1 * 0) \\\\\n",
        "         = & \\beta_1\n",
        "         \\end{align*}\n",
        "         $$"
      ],
      "id": "3f90696e-f603-4337-9353-44633c5f9652"
    },
    {
      "cell_type": "code",
      "execution_count": 4,
      "metadata": {},
      "outputs": [
        {
          "output_type": "stream",
          "name": "stdout",
          "text": [
            "regression estimate=-0.004424468296488705, se=0.0011004170544555998"
          ]
        },
        {
          "output_type": "stream",
          "name": "stderr",
          "text": [
            "/tmp/ipykernel_1572219/1693813292.py:2: FutureWarning:\n",
            "\n",
            "Series.__getitem__ treating keys as positions is deprecated. In a future version, integer keys will always be treated as labels (consistent with DataFrame behavior). To access a value by position, use `ser.iloc[pos]`\n"
          ]
        }
      ],
      "source": [
        "reg=smf.ols('infected ~ treat', data=data.loc[data['over65']==1,:]).fit()\n",
        "print(f\"regression estimate={reg.params[1]:3}, se={reg.bse[1]:5}\")"
      ],
      "id": "a97fea62"
    },
    {
      "cell_type": "markdown",
      "metadata": {},
      "source": [
        "## Heteroskedasticity Robust Standard Errors"
      ],
      "id": "101bc8b6-0319-4b49-9262-420fe066e571"
    },
    {
      "cell_type": "code",
      "execution_count": 5,
      "metadata": {},
      "outputs": [
        {
          "output_type": "stream",
          "name": "stdout",
          "text": [
            "OLS SE: 0.0011004170544555998, manual SE: 0.0010976149240857532"
          ]
        }
      ],
      "source": [
        "olsse = np.sqrt(np.diag(smf.ols('infected ~ treat',data=data.loc[data['over65']==1]).fit().cov_params())[1])\n",
        "print(f\"OLS SE: {olsse}, manual SE: {ate[1]}\")"
      ],
      "id": "794faafa"
    },
    {
      "cell_type": "markdown",
      "metadata": {},
      "source": [
        "-   But standard error very slightly different\n",
        "\n",
        "-   Default of `smf.ols` assumes homoskedasticiy\n",
        "    $\\Er[\\epsilon^2|X] = \\sigma^2$\n",
        "\n",
        "-   With $y$ and $T$, binary, $\\Er[\\epsilon^2|T] = P(y=1|T)(1-P(y=1|T))$"
      ],
      "id": "a13ff1a1-dbab-4aab-86f1-2796abf43682"
    },
    {
      "cell_type": "code",
      "execution_count": 6,
      "metadata": {},
      "outputs": [
        {
          "output_type": "stream",
          "name": "stdout",
          "text": [
            "OLS HC SE: 0.001097749929536793, manual SE: 0.0010976149240857532"
          ]
        }
      ],
      "source": [
        "olshcse = np.sqrt(np.diag(smf.ols('infected ~ treat',data=data.loc[data['over65']==1]).fit(cov_type=\"HC3\").cov_params())[1])\n",
        "print(f\"OLS HC SE: {olshcse}, manual SE: {ate[1]}\")"
      ],
      "id": "028dd08b"
    },
    {
      "cell_type": "markdown",
      "metadata": {},
      "source": [
        "-   **always use heteroskedasticity robust standard errors**\n",
        "\n",
        "## Multiple Regression\n",
        "\n",
        "-   $y \\in \\R^n$, $X \\in \\R^{n \\times k}$ $$ %\n",
        "    \\begin{align*}\n",
        "    \\hat{\\beta} & \\in \\argmin_{\\beta} \\Vert y - X \\beta \\Vert_2^2 \\\\\n",
        "    \\hat{\\beta} & \\in \\argmin_{\\beta} \\sum_{i=1}^n (y_i - x_i' \\beta)^2\n",
        "    \\end{align*}\n",
        "    $$\n",
        "-   Population regression $$\n",
        "    \\begin{align*}\n",
        "    \\beta_0 & \\in \\argmin_{\\beta} \\Er[(y - x'\\beta)^2] \\\\\n",
        "    \\beta_0 & \\in \\argmin_{\\beta} \\Er[(\\Er[y|x] - x'\\beta)^2]\n",
        "    \\end{align*}\n",
        "    $$\n",
        "    -   best linear approximation to conditional expectation\n",
        "\n",
        "## Large Sample Behavior\n",
        "\n",
        "-   With appropriate assumptions,\n",
        "    -   consistent $\\hat{\\beta} \\inprob \\beta_0$\n",
        "    -   asymptotically normal $$\n",
        "        \\sqrt{n}(\\hat{\\beta} - \\beta_0) \\indist N\\left(0, \\Er[xx']^{-1} \\Er[xx'\\epsilon^2] \\Er[xx']^{-1} \\right)\n",
        "        $$\n",
        "\n",
        "## Ceteris Paribus\n",
        "\n",
        "-   Regression estimates\n",
        "    $\\beta_0 \\in \\argmin_{\\beta} \\Er[(\\Er[y|x] - x'\\beta)^2]$\n",
        "    -   $x'\\beta_0$ is the best linear approximation to $\\Er[y|x]$\n",
        "    -   $\\frac{\\partial}{\\partial x_1}\\Er[y|x] \\approx \\beta_{0,1}$ is\n",
        "        the change in $x_1$ holding the rest of $x$ constant\n",
        "\n",
        "## Example: Gender Earnings Gap"
      ],
      "id": "020e0ce7-cf9d-469a-ac6f-7100974bab54"
    },
    {
      "cell_type": "code",
      "execution_count": 7,
      "metadata": {
        "output-location": "slide"
      },
      "outputs": [
        {
          "output_type": "stream",
          "name": "stderr",
          "text": [
            "/home/paul/526/mine/site/.venv/lib/python3.12/site-packages/pandas/core/arraylike.py:399: RuntimeWarning:\n",
            "\n",
            "divide by zero encountered in log\n",
            "\n",
            "/home/paul/526/mine/site/.venv/lib/python3.12/site-packages/pandas/core/arraylike.py:399: RuntimeWarning:\n",
            "\n",
            "divide by zero encountered in log\n",
            "\n",
            "/home/paul/526/mine/site/.venv/lib/python3.12/site-packages/pandas/core/arraylike.py:399: RuntimeWarning:\n",
            "\n",
            "invalid value encountered in log\n"
          ]
        },
        {
          "output_type": "display_data",
          "metadata": {},
          "data": {
            "text/html": [
              "<br/>\n",
              "Standard errors in parentheses.<br/>\n",
              "* p<.1, ** p<.05, ***p<.01"
            ]
          }
        }
      ],
      "source": [
        "import os\n",
        "import requests\n",
        "url = 'https://www.nber.org/morg/annual/morg23.dta'\n",
        "local_filename = 'data/morg23.dta'\n",
        "\n",
        "if not os.path.exists(local_filename):\n",
        "    response = requests.get(url)\n",
        "    with open(local_filename, 'wb') as file:\n",
        "        file.write(response.content)\n",
        "\n",
        "cps=pd.read_stata(local_filename)\n",
        "cps[\"female\"] = (cps.sex==2)\n",
        "cps[\"log_earn\"] = np.log(cps[\"earnwke\"])\n",
        "cps[\"log_uhours\"] = np.log(cps.uhourse)\n",
        "cps[\"log_hourslw\"] = np.log(cps.hourslw)\n",
        "cps.replace(-np.inf, np.nan, inplace=True)\n",
        "cps[\"nevermarried\"] = cps.marital==7\n",
        "cps[\"wasmarried\"] = (cps.marital >= 4) & (cps.marital <= 6)\n",
        "cps[\"married\"] = cps.marital <= 3\n",
        "\n",
        "lm = list()\n",
        "lm.append(smf.ols(formula=\"log_earn ~ female\", data=cps,\n",
        "                  missing=\"drop\").fit(cov_type='HC3'))\n",
        "lm.append(smf.ols(formula=\"log_earn ~ female + log_hourslw + log_uhours\", data=cps,\n",
        "                  missing=\"drop\").fit(cov_type='HC3'))\n",
        "lm.append(smf.ols(formula=\"log_earn ~ female + log_hourslw + log_uhours + wasmarried + married\", data=cps,\n",
        "                  missing=\"drop\").fit(cov_type='HC3'))\n",
        "lm.append(smf.ols(formula=\"log_earn ~ female*(wasmarried+married) + log_hourslw + log_uhours\", data=cps,\n",
        "                  missing=\"drop\").fit(cov_type='HC3'))\n",
        "\n",
        "summary_col(lm, stars=True, model_names=[f\"{i+1}\" for i in range(len(lm))])"
      ],
      "id": "f7d1428f"
    },
    {
      "cell_type": "markdown",
      "metadata": {},
      "source": [
        "## Partialling Out\n",
        "\n",
        "$$y_i = x_i \\beta + w_i'\\gamma + u_i$$ - Can equivalently calculate\n",
        "$\\beta$ by\n",
        "\n",
        "-   Multiple regression of $y$ on $x$ and $w$, or\n",
        "\n",
        "``` python\n",
        "smf.ols(formula=\"log_earn ~ female + log_hourslw + log_uhours\", data=cps, missing=\"drop\").fit(cov_type=\"HC3\").params[1]\n",
        "```\n",
        "\n",
        "    /tmp/ipykernel_1572219/3853301011.py:1: FutureWarning:\n",
        "\n",
        "    Series.__getitem__ treating keys as positions is deprecated. In a future version, integer keys will always be treated as labels (consistent with DataFrame behavior). To access a value by position, use `ser.iloc[pos]`\n",
        "\n",
        "    np.float64(-0.13177744005735112)\n",
        "\n",
        "-   Bivariate regression of residuals from regressing $y$ on $w$, on the\n",
        "    residuals from regression $x$ on $w$\n",
        "\n",
        "``` python\n",
        "ey=smf.ols(formula=\"log_earn ~ log_hourslw + log_uhours\", data=cps, missing=\"drop\").fit().resid\n",
        "ex=smf.ols(formula=\"I(1*female) ~ log_hourslw + log_uhours\", data=cps, missing=\"drop\").fit().resid\n",
        "edf = pd.concat([ex,ey],axis=1)\n",
        "edf.columns=['ex','ey']\n",
        "smf.ols('ey ~ ex', data=edf).fit(cov_type=\"HC3\").params[1]\n",
        "```\n",
        "\n",
        "    /tmp/ipykernel_1572219/511654855.py:5: FutureWarning:\n",
        "\n",
        "    Series.__getitem__ treating keys as positions is deprecated. In a future version, integer keys will always be treated as labels (consistent with DataFrame behavior). To access a value by position, use `ser.iloc[pos]`\n",
        "\n",
        "    np.float64(-0.131764318408401)\n",
        "\n",
        "## Omitted Variables\n",
        "\n",
        "-   If we want $$\n",
        "    y_i = \\beta_0 + x_i \\beta + w_i'\\gamma + u_i\n",
        "    $$\n",
        "\n",
        "-   But only regression $y$ on $x$, then $$\n",
        "    \\hat{\\beta}^s = \\hat{\\beta} + \\frac{ \\sum (x_i - \\bar{x})w_i'}{\\sum (x_i - \\bar{x})^2} \\hat{\\gamma}\n",
        "    $$ and $$\n",
        "    \\hat{\\beta}^s \\inprob \\beta + \\frac{ \\Er[(x_i - \\Er[x])w_i']}{\\var(x_i)} \\gamma\n",
        "    $$\n",
        "\n",
        "-   Useful for:\n",
        "\n",
        "    -   Understanding mechanically why coefficients change when we\n",
        "        add/remove variables\n",
        "    -   Speculating about direction of bias when we some variables are\n",
        "        unobserved\n",
        "\n",
        "## Gender Wage Gap with More Conditioning"
      ],
      "id": "47f00813-3b55-4324-94eb-495c66bc8285"
    },
    {
      "cell_type": "code",
      "execution_count": 10,
      "metadata": {},
      "outputs": [
        {
          "output_type": "stream",
          "name": "stdout",
          "text": [
            "###\n",
            "\n",
            "Estimation:  OLS\n",
            "Dep. var.: log_earn, Fixed effects: race+grade92+unionmme+unioncov+ind17+occ18\n",
            "Inference:  hetero\n",
            "Observations:  104607\n",
            "\n",
            "| Coefficient       |   Estimate |   Std. Error |   t value |   Pr(>|t|) |   2.5% |   97.5% |\n",
            "|:------------------|-----------:|-------------:|----------:|-----------:|-------:|--------:|\n",
            "| female            |     -0.084 |        0.006 |   -14.742 |      0.000 | -0.095 |  -0.073 |\n",
            "| wasmarried        |      0.082 |        0.009 |     9.570 |      0.000 |  0.065 |   0.099 |\n",
            "| married           |      0.126 |        0.005 |    23.207 |      0.000 |  0.115 |   0.137 |\n",
            "| log_hourslw       |      0.044 |        0.007 |     6.649 |      0.000 |  0.031 |   0.058 |\n",
            "| log_uhours        |      0.988 |        0.011 |    93.671 |      0.000 |  0.967 |   1.009 |\n",
            "| age               |      0.003 |        0.000 |    19.767 |      0.000 |  0.003 |   0.003 |\n",
            "| I(age ** 2)       |     -0.000 |        0.000 |    -1.174 |      0.240 | -0.000 |   0.000 |\n",
            "| female:wasmarried |     -0.059 |        0.011 |    -5.507 |      0.000 | -0.080 |  -0.038 |\n",
            "| female:married    |     -0.069 |        0.007 |    -9.734 |      0.000 | -0.083 |  -0.055 |\n",
            "---\n",
            "RMSE: 0.524 R2: 0.582 R2 Within: 0.314 "
          ]
        }
      ],
      "source": [
        "import pyfixest as pf\n",
        "\n",
        "controls=\"age + I(age**2) | race + grade92 + unionmme + unioncov +  ind17 + occ18\"\n",
        "allcon=pf.feols(\"log_earn ~ female*(wasmarried + married) + log_hourslw + log_uhours + \" + controls, data=cps,vcov='hetero')\n",
        "allcon.summary()"
      ],
      "id": "5474784e"
    },
    {
      "cell_type": "markdown",
      "metadata": {},
      "source": [
        "# Regression for RCTs\n",
        "\n",
        "## Regression for RCTs\n",
        "\n",
        "-   RCT with outcome $Y$, treatment $T$, other variables $X$\n",
        "\n",
        "-   Should we estimate ATE in a regression that includes $X$?\n",
        "\n",
        "## Simulated RCT\n",
        "\n",
        "-   from Chernozhukov et al. (2024) chapter 2 (who got the setup from\n",
        "    Roth)"
      ],
      "id": "a6b34002-48e1-4b76-ac38-18c811dbe3d8"
    },
    {
      "cell_type": "code",
      "execution_count": 11,
      "metadata": {},
      "outputs": [
        {
          "output_type": "stream",
          "name": "stdout",
          "text": [
            "Unobservable sample ATE = 0.072"
          ]
        }
      ],
      "source": [
        "np.random.seed(54)\n",
        "n = 1000             # sample size\n",
        "Z = np.random.normal(size=n)         # generate Z\n",
        "Y0 = -Z + np.random.normal(size=n)   # conditional average baseline response is -Z\n",
        "Y1 = Z + np.random.normal(size=n)    # conditional average treatment effect is +Z\n",
        "D = np.random.binomial(1, .2, size=n)    # treatment indicator; only 20% get treated\n",
        "Y = Y1 * D + Y0 * (1 - D)  # observed Y\n",
        "Z = Z - Z.mean()       # demean Z\n",
        "data = pd.DataFrame({\"Y\": Y, \"D\": D, \"Z\": Z})\n",
        "print(f\"Unobservable sample ATE = {np.mean(Y1-Y0):.3}\")"
      ],
      "id": "4bfb03bd"
    },
    {
      "cell_type": "markdown",
      "metadata": {},
      "source": [
        "-   Population ATE is $0$\n",
        "\n",
        "## Simulated RCT"
      ],
      "id": "fffc2b7c-d798-4435-b150-2a5267395d65"
    },
    {
      "cell_type": "code",
      "execution_count": 12,
      "metadata": {},
      "outputs": [
        {
          "output_type": "display_data",
          "metadata": {},
          "data": {
            "text/html": [
              "<br/>\n",
              "Standard errors in parentheses."
            ]
          }
        }
      ],
      "source": [
        "hc = 'HC0'\n",
        "m1=smf.ols('Y ~ D',data=data).fit(cov_type=hc)\n",
        "madd=smf.ols('Y ~ D + Z',data=data).fit(cov_type=hc)\n",
        "summary_col([m1, madd], model_names=['simple','additive'])"
      ],
      "id": "c3181a4b"
    },
    {
      "cell_type": "markdown",
      "metadata": {},
      "source": [
        "## Simulated RCT"
      ],
      "id": "f8e56c41-9f61-4f5a-a45a-06c44ea4d739"
    },
    {
      "cell_type": "code",
      "execution_count": 13,
      "metadata": {},
      "outputs": [
        {
          "output_type": "display_data",
          "metadata": {},
          "data": {
            "text/html": [
              "<br/>\n",
              "Standard errors in parentheses."
            ]
          }
        }
      ],
      "source": [
        "minteract=smf.ols('Y ~ D + Z*D',data=data).fit(cov_type=hc)\n",
        "summary_col([m1, madd, minteract],model_names=['simple','additive','interactive'])"
      ],
      "id": "c183ad1a"
    },
    {
      "cell_type": "markdown",
      "metadata": {},
      "source": [
        "## If $T \\indep X$, Interactive Model Reduces Variance\n",
        "\n",
        "-   Assume $T \\indep (X, Y(0), Y(1))$, $T \\in \\{0,1\\}$, $\\Er[X] = 0$\n",
        "-   Consider $$\n",
        "    \\begin{align*}\n",
        "    Y & = \\beta_0^s + \\beta_1^s T + \\epsilon^s \\\\\n",
        "    Y & = \\beta_0^a + \\beta_1^a T + X'\\gamma^a_0 + \\epsilon^a \\\\\n",
        "    Y & = \\beta_0^i + \\beta_1^i T + X'\\gamma^i_0 + TX'\\gamma^i_1 + \\epsilon^s\n",
        "    \\end{align*}\n",
        "    $$\n",
        "-   All are consistent $$\n",
        "    \\plim \\hat{\\beta}_1^s = \\plim \\hat{\\beta}_1^a = \\plim \\hat{\\beta}_1^i = ATE\n",
        "    $$\n",
        "-   Interactive has smaller asymptotic variance $$\n",
        "    \\var(\\hat{\\beta}_1^i) \\leq \\var(\\hat{\\beta}_1^s) \\text{ and } \\var(\\hat{\\beta}_1^i) \\leq \\var(\\hat{\\beta}_1^a)\n",
        "    $$\n",
        "\n",
        "## Collections and Payment Reminders\n",
        "\n",
        "-   Data from credit firm\n",
        "-   Treatment = email reminder to repay\n",
        "-   Outcome = payments\n",
        "-   Other variables\n",
        "    -   credit limit\n",
        "    -   risk score\n",
        "    -   whether email openned\n",
        "    -   whether agreed to repay after opening email\n",
        "\n",
        "From chapter 7 of Facure (2022)\n",
        "\n",
        "## Collections and Payment Reminders"
      ],
      "id": "59715264-3dd6-4f25-99f3-1dc34b85626b"
    },
    {
      "cell_type": "code",
      "execution_count": 14,
      "metadata": {},
      "outputs": [
        {
          "output_type": "display_data",
          "metadata": {},
          "data": {
            "text/html": [
              "\n",
              "</div>"
            ]
          }
        }
      ],
      "source": [
        "filename = 'data/collections_email.csv'\n",
        "url = 'https://raw.githubusercontent.com/matheusfacure/python-causality-handbook/refs/heads/master/causal-inference-for-the-brave-and-true/data/collections_email.csv'\n",
        "if not os.path.exists(filename):\n",
        "    response = requests.get(url)\n",
        "    with open(filename, 'wb') as file:\n",
        "        file.write(response.content)\n",
        "\n",
        "data = pd.read_csv(filename)\n",
        "data.describe()"
      ],
      "id": "c6b7b1a1"
    },
    {
      "cell_type": "markdown",
      "metadata": {},
      "source": [
        "## Collections and Payment Reminders"
      ],
      "id": "c49bec36-60ed-4548-afbf-246cf96376b0"
    },
    {
      "cell_type": "code",
      "execution_count": 15,
      "metadata": {},
      "outputs": [
        {
          "output_type": "display_data",
          "metadata": {},
          "data": {
            "text/html": [
              "<br/>\n",
              "Standard errors in parentheses.<br/>\n",
              "* p<.1, ** p<.05, ***p<.01"
            ]
          }
        }
      ],
      "source": [
        "lm = list()\n",
        "lm.append(smf.ols(formula=\"payments ~ email\", data=data).fit(cov_type='HC3'))\n",
        "lm.append(smf.ols(formula=\"payments ~ email + credit_limit + risk_score\",data=data).fit(cov_type='HC3'))\n",
        "lm.append(smf.ols(formula=\"payments ~ email + credit_limit + risk_score + opened + agreement\",data=data).fit(cov_type='HC3'))\n",
        "summary_col(lm, stars=True, model_names=[f\"{i+1}\" for i in range(len(lm))])"
      ],
      "id": "b9f3d06f"
    },
    {
      "cell_type": "markdown",
      "metadata": {},
      "source": [
        "## Collections and Payment Reminders\n",
        "\n",
        "-   Which specification make sense?\n",
        "-   Any red-flags in the results?\n",
        "-   What conclusions can we draw?\n",
        "\n",
        "## “Bad controls” or Mediators or Colliders\n",
        "\n",
        "Facure (2022) calls controlling for `opened` and `agreement` “selection\n",
        "bias,” but in economics, we would not call it that. We would refer to\n",
        "`opened` and `agreement` as bad controls because they mediate the\n",
        "outcome of interest. We would not want hold them constant because part\n",
        "of how `email` affects `payments` is by changing `opened` and\n",
        "`agreement`.\n",
        "\n",
        "Since at least Heckman (1976) and Heckman (1979) selection bias refers\n",
        "to when the expectation of an outcome conditional on observing it is not\n",
        "equal to the expectation in the population. As far as I know, calling\n",
        "conditioning on mediators “selection bias” was popularized by Hernán,\n",
        "Hernández-Dı́az, and Robins (2004) in epidemiology and spread to other\n",
        "field.s If you want to avoid confusion, one coould call Heckman (1976)\n",
        "selection bias “self-selection bias” or “Heckman selection bias,” and\n",
        "call Hernán, Hernández-Dı́az, and Robins (2004) selection bias “collider\n",
        "bias” or “mediator bias.”\n",
        "\n",
        "## Drug Trial at Two Hospitals\n",
        "\n",
        "``` python\n",
        "filename = 'data/hospital_treatment.csv'\n",
        "url = 'https://raw.githubusercontent.com/matheusfacure/python-causality-handbook/refs/heads/master/causal-inference-for-the-brave-and-true/data/hospital_treatment.csv'\n",
        "if not os.path.exists(filename):\n",
        "    response = requests.get(url)\n",
        "    with open(filename, 'wb') as file:\n",
        "        file.write(response.content)\n",
        "\n",
        "drug = pd.read_csv(filename)\n",
        "print(drug.apply([np.mean, np.std]).to_markdown() + f\"\\n| N    | {len(drug)}     |\\n\")\n",
        "```\n",
        "\n",
        "|      | hospital | treatment | severity |    days |\n",
        "|:-----|---------:|----------:|---------:|--------:|\n",
        "| mean |   0.6375 |     0.625 |  15.4758 | 42.1125 |\n",
        "| std  | 0.480722 |  0.484123 |  7.14637 | 15.9429 |\n",
        "| N    |       80 |           |          |         |\n",
        "\n",
        "-   `hospital` $\\in \\{0,1\\}$\n",
        "-   `treatment` $\\in \\{0,1\\}$\n",
        "-   `severity` prior to treatment assignment\n",
        "-   `days` in hospital\n",
        "\n",
        "From chapter 7 of Facure (2022)\n",
        "\n",
        "## Drug Trial at Two Hospitals\n",
        "\n",
        "``` python\n",
        "print(drug.groupby('hospital').mean().to_markdown())\n",
        "```\n",
        "\n",
        "| hospital | treatment | severity |    days |\n",
        "|---------:|----------:|---------:|--------:|\n",
        "|        0 | 0.0689655 |  7.94499 | 29.6207 |\n",
        "|        1 |  0.941176 |   19.758 | 49.2157 |\n",
        "\n",
        "-   Treatment randomly assigned within each hospital, but with very\n",
        "    different $P(T=1|\\text{hospital})$\n",
        "\n",
        "## Drug Trial at Two Hospitals"
      ],
      "id": "de3a5ab0-e2bf-4503-92bc-7bd602121b03"
    },
    {
      "cell_type": "code",
      "execution_count": 18,
      "metadata": {},
      "outputs": [
        {
          "output_type": "display_data",
          "metadata": {},
          "data": {
            "text/html": [
              "<br/>\n",
              "Standard errors in parentheses."
            ]
          }
        }
      ],
      "source": [
        "models = [\n",
        "    smf.ols(\"days ~ treatment\", data=drug).fit(cov_type='HC0'),\n",
        "    smf.ols(\"days ~ treatment\", data=drug.query(\"hospital==0\")).fit(cov_type='HC0'),\n",
        "    smf.ols(\"days ~ treatment\", data=drug.query(\"hospital==1\")).fit(cov_type='HC0'),\n",
        "    smf.ols(\"days ~ treatment + severity \", data=drug).fit(cov_type='HC0'),\n",
        "    smf.ols(\"days ~ treatment + severity + hospital\", data=drug).fit(cov_type='HC0'),\n",
        "    ]\n",
        "summary_col(models, model_names=['all','hosp 0', 'hosp 1', 'all', 'all'])"
      ],
      "id": "f9a50799"
    },
    {
      "cell_type": "markdown",
      "metadata": {},
      "source": [
        "## Drug Trial at Two Hospitals\n",
        "\n",
        "-   Bivariate regression with all observations on treatment has wrong\n",
        "    sign\n",
        "    -   Hospital 1 has higher severity which increases days, but also\n",
        "        higher P(treatment)\n",
        "    -   Ignoring interaction of severity and days leads to sign reversal\n",
        "-   Comparing “all II” and “all III”, more controls does not always\n",
        "    decrease SE\n",
        "\n",
        "## Drug Trial at Two Hospitals"
      ],
      "id": "f010db97-bc75-4e5a-a620-07c7b7284ba0"
    },
    {
      "cell_type": "code",
      "execution_count": 19,
      "metadata": {
        "output-location": "slide"
      },
      "outputs": [
        {
          "output_type": "display_data",
          "metadata": {},
          "data": {
            "text/html": [
              "<br/>\n",
              "Standard errors in parentheses."
            ]
          }
        }
      ],
      "source": [
        "drug['severity_c'] = drug['severity'] - drug['severity'].mean()\n",
        "drug['hospital_c'] = drug['hospital'] - drug['hospital'].mean()\n",
        "drug['hs_c'] = drug['severity']*drug['hospital'] - np.mean(drug['severity']*drug['hospital'])\n",
        "models = [\n",
        "    smf.ols(\"days ~ treatment*severity_c\", data=drug).fit(cov_type='HC0'),\n",
        "    smf.ols(\"days ~ treatment*hospital_c\", data=drug).fit(cov_type='HC0'),\n",
        "    smf.ols(\"days ~ treatment*(hospital_c + severity_c + hs_c)\", data=drug).fit(cov_type='HC0')\n",
        "]\n",
        "summary_col(models, model_names=['I','II','III'])"
      ],
      "id": "42ef3d25"
    },
    {
      "cell_type": "markdown",
      "metadata": {},
      "source": [
        "## Drug Trial at Two Hospitals\n",
        "\n",
        "-   What is the best estimator here?\n",
        "    -   We will explore more in [matching](matching.qmd)\n",
        "\n",
        "## Sources and Futher Reading\n",
        "\n",
        "-   Chapters\n",
        "    [5](https://matheusfacure.github.io/python-causality-handbook/05-The-Unreasonable-Effectiveness-of-Linear-Regression.html),\n",
        "    [6](https://matheusfacure.github.io/python-causality-handbook/06-Grouped-and-Dummy-Regression.html)\n",
        "    , and\n",
        "    [7](https://matheusfacure.github.io/python-causality-handbook/07-Beyond-Confounders.html#bad-controls-selection-bias)\n",
        "    of Facure (2022)\n",
        "\n",
        "-   Chernozhukov et al. (2024) chapters 1 and 2\n",
        "\n",
        "-   [The Effect: Chapter 13 -\n",
        "    Regression](https://www.theeffectbook.net/ch-StatisticalAdjustment.html)\n",
        "    Huntington-Klein (2021)\n",
        "\n",
        "## References\n",
        "\n",
        "Chernozhukov, V., C. Hansen, N. Kallus, M. Spindler, and V. Syrgkanis.\n",
        "2024. *Applied Causal Inference Powered by ML and AI*.\n",
        "<https://causalml-book.org/>.\n",
        "\n",
        "Facure, Matheus. 2022. *Causal Inference for the Brave and True*.\n",
        "<https://matheusfacure.github.io/python-causality-handbook/landing-page.html>.\n",
        "\n",
        "Heckman, James J. 1976. “The Common Structure of Statistical Models of\n",
        "Truncation, Sample Selection and Limited Dependent Variables and a\n",
        "Simple Estimator for Such Models.” *Annals of Economic and Social\n",
        "Measurement* 5: 475–92.\n",
        "<https://api.semanticscholar.org/CorpusID:117935755>.\n",
        "\n",
        "———. 1979. “Sample Selection Bias as a Specification Error.”\n",
        "*Econometrica*.\n",
        "\n",
        "Hernán, Miguel A, Sonia Hernández-Dı́az, and James M Robins. 2004. “A\n",
        "Structural Approach to Selection Bias.” *Epidemiology* 15 (5): 615–25.\n",
        "\n",
        "Huntington-Klein, Nick. 2021. *The Effect: An Introduction to Research\n",
        "Design and Causality*. CRC Press. <https://theeffectbook.net/>."
      ],
      "id": "0442184b-faa1-43a4-8b85-7c3f33766da8"
    }
  ],
  "nbformat": 4,
  "nbformat_minor": 5,
  "metadata": {
    "kernelspec": {
      "name": "python3",
      "display_name": "Python 3 (ipykernel)",
      "language": "python",
      "path": "/usr/share/jupyter/kernels/python3"
    }
  }
}