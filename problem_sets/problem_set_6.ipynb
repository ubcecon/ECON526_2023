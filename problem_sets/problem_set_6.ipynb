{
  "cells": [
    {
      "cell_type": "markdown",
      "metadata": {},
      "source": [
        "# ECON526: Assignment 6"
      ],
      "id": "b02f8ad3-25b6-44b6-be91-9db94fa35194"
    },
    {
      "cell_type": "markdown",
      "metadata": {},
      "source": [
        "## Student Name/Number: (doubleclick to edit)"
      ],
      "id": "91e71413-c44c-457c-a1a0-8b5a8782a55d"
    },
    {
      "cell_type": "markdown",
      "metadata": {},
      "source": [
        "### Instructions\n",
        "\n",
        "-   Ensure you modify the field above with your **name and student\n",
        "    number above immediately**\n",
        "-   Modify directly and save as the `.ipynb`, and submit directly. Do\n",
        "    not export to PDF or HTML, and leave the filename as is. Canvas will\n",
        "    automatically append your name to the filename.\n",
        "-   Submit directly to canvas as a `.ipynb` file.\n",
        "\n",
        "This problem set analyzes data from Enikolopov, Petrova, and Zhuravskaya\n",
        "(2011a) “Media and Political Persuasion: Evidence from Russia.” Data is\n",
        "available from Enikolopov, Petrova, and Zhuravskaya (2011b).\n",
        "\n",
        "# Question 1\n",
        "\n",
        "Read the introduction and sections I-III of Enikolopov, Petrova, and\n",
        "Zhuravskaya (2011a). Briefly describe the causal effect being studied.\n",
        "What is the treatment? What are the potential outcomes? What is the\n",
        "identifying assumption that allows the causal effect to be estimated\n",
        "from observational data?"
      ],
      "id": "65bbba18-0647-480e-86e3-feed90a6d3c1"
    },
    {
      "cell_type": "markdown",
      "metadata": {},
      "source": [
        "(your answer)"
      ],
      "id": "ba648b80-a840-4cb0-862a-9a82e09249ae"
    },
    {
      "cell_type": "markdown",
      "metadata": {},
      "source": [
        "# Question 2\n",
        "\n",
        "We will use the data in `NTV_Aggregate_Data.dta`. It can be downloaded\n",
        "from\n",
        "[ICPSR](https://www.openicpsr.org/openicpsr/project/112480/version/V1/view?path=/openicpsr/112480/fcr:versions/V1/Replication/NTV_Aggregate_Data.dta&type=file)\n",
        "(login required) or from the course canvas page. Download the file and\n",
        "save it in the same folder as this notebook. We load the data in a\n",
        "dataframe named `df`."
      ],
      "id": "43d260c2-03f3-417f-b538-0f4e963048f4"
    },
    {
      "cell_type": "code",
      "execution_count": 1,
      "metadata": {},
      "outputs": [],
      "source": [
        "import pandas as pd\n",
        "import numpy as np\n",
        "import os\n",
        "filename = \"NTV_Aggregate_Data.dta\"\n",
        "if not os.path.exists(filename) :\n",
        "    print(filename + \" not found\")\n",
        "    print(\"Please download the data from the link above.\")\n",
        "\n",
        "df=pd.read_stata(filename)"
      ],
      "id": "cf5960f8"
    },
    {
      "cell_type": "markdown",
      "metadata": {},
      "source": [
        "Estimate regressions similar to equation (2) in Enikolopov, Petrova, and\n",
        "Zhuravskaya (2011a) to reproduce panel A of Table 2."
      ],
      "id": "db54011c-04a4-4964-8f8e-2f52b5da606b"
    },
    {
      "cell_type": "code",
      "execution_count": 2,
      "metadata": {},
      "outputs": [],
      "source": [
        "import statsmodels.formula.api as smf\n",
        "from statsmodels.iolib.summary2 import summary_col\n",
        "# your code here"
      ],
      "id": "23f2ff45"
    },
    {
      "cell_type": "markdown",
      "metadata": {},
      "source": [
        "# Question 3\n",
        "\n",
        "## Q3.1\n",
        "\n",
        "Use a flexible model to estimate the propensity score. Include the same\n",
        "controls as in your regression from question 2."
      ],
      "id": "c152bc97-8b23-48f6-b1a8-e156fa435942"
    },
    {
      "cell_type": "code",
      "execution_count": 3,
      "metadata": {},
      "outputs": [],
      "source": [
        "from sklearn.linear_model import LogisticRegression, LogisticRegressionCV, LassoCV\n",
        "from sklearn.ensemble import GradientBoostingRegressor, GradientBoostingClassifier\n",
        "from sklearn.preprocessing import PolynomialFeatures, StandardScaler\n",
        "from sklearn.pipeline import make_pipeline\n",
        "from sklearn.kernel_approximation import RBFSampler\n",
        "from patsy import dmatrices # useful for converting formulas to matrices\n",
        "\n",
        "# your code here"
      ],
      "id": "9c3b5739"
    },
    {
      "cell_type": "markdown",
      "metadata": {},
      "source": [
        "## Q3.2\n",
        "\n",
        "Check for overlap by plotting histograms of estimated propensity scores\n",
        "conditional on treatment status. Comment on the results."
      ],
      "id": "01caad0a-463c-4882-bee7-b7c231735dff"
    },
    {
      "cell_type": "code",
      "execution_count": 4,
      "metadata": {},
      "outputs": [],
      "source": [
        "from matplotlib import style\n",
        "from matplotlib import pyplot as plt\n",
        "import seaborn as sns\n",
        "style.use(\"fivethirtyeight\") # or whatever you prefer\n",
        "\n",
        "# your code here"
      ],
      "id": "b6ad9c84"
    },
    {
      "cell_type": "markdown",
      "metadata": {},
      "source": [
        "(double click to edit your answer)"
      ],
      "id": "0930060e-828b-4446-8076-b5bd8143206e"
    },
    {
      "cell_type": "markdown",
      "metadata": {},
      "source": [
        "# Question 4\n",
        "\n",
        "Compute a doubly robust estimate of the effect of NTV availability on\n",
        "Unity votes. Report the point estimate and a 95% confidence interval.\n",
        "Describe how the result compares with the regression estimates in\n",
        "question 2."
      ],
      "id": "c395787d-2418-4d0e-ac96-50c4a32e88c7"
    },
    {
      "cell_type": "code",
      "execution_count": 7,
      "metadata": {},
      "outputs": [],
      "source": [
        "import doubleml as dml\n",
        "\n",
        "# your code here"
      ],
      "id": "7c6a511f"
    },
    {
      "cell_type": "markdown",
      "metadata": {},
      "source": [
        "(double click to edit your answer)"
      ],
      "id": "5abfe29e-7874-481e-b022-bffe48a67a1b"
    },
    {
      "cell_type": "markdown",
      "metadata": {},
      "source": [
        "# References\n",
        "\n",
        "Enikolopov, Ruben, Maria Petrova, and Ekaterina Zhuravskaya. 2011a.\n",
        "“Media and Political Persuasion: Evidence from Russia.” *American\n",
        "Economic Review* 101 (7): 3253–85.\n",
        "<https://doi.org/10.1257/aer.101.7.3253>.\n",
        "\n",
        "———. 2011b. “Replication Data for: Media and Political Persuasion:\n",
        "Evidence from Russia.” American Economic Association.\n",
        "https://doi.org/<https://doi.org/10.3886/E112480V1>."
      ],
      "id": "50bf025e-23d3-45ac-a41d-720ba9888067"
    }
  ],
  "nbformat": 4,
  "nbformat_minor": 5,
  "metadata": {
    "kernelspec": {
      "name": "python3",
      "display_name": "Python 3 (ipykernel)",
      "language": "python",
      "path": "/usr/share/jupyter/kernels/python3"
    }
  }
}